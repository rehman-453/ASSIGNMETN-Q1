{
 "cells": [
  {
   "cell_type": "code",
   "execution_count": 10,
   "metadata": {},
   "outputs": [
    {
     "name": "stdout",
     "output_type": "stream",
     "text": [
      "Enter magnitude of Triangle base = 4\n",
      "Enter magnitude of Triangle Height = 4\n",
      "Area of Triangle with Height  4 and Base  4 is  8.0\n"
     ]
    }
   ],
   "source": [
    "# Triangle Area\n",
    "\n",
    "base = int(input(\"Enter magnitude of Triangle base = \"))\n",
    "height = int(input(\"Enter magnitude of Triangle Height = \"))\n",
    "Area = (base * height)/2\n",
    "print(\"Area of Triangle with Height \", height, \"and Base \", base, \"is \", Area)"
   ]
  }
 ],
 "metadata": {
  "kernelspec": {
   "display_name": "Python 3",
   "language": "python",
   "name": "python3"
  },
  "language_info": {
   "codemirror_mode": {
    "name": "ipython",
    "version": 3
   },
   "file_extension": ".py",
   "mimetype": "text/x-python",
   "name": "python",
   "nbconvert_exporter": "python",
   "pygments_lexer": "ipython3",
   "version": "3.7.3"
  }
 },
 "nbformat": 4,
 "nbformat_minor": 2
}

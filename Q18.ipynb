{
 "cells": [
  {
   "cell_type": "code",
   "execution_count": 11,
   "metadata": {},
   "outputs": [
    {
     "name": "stdout",
     "output_type": "stream",
     "text": [
      "Enter Text: sami\n",
      "Vowels = 2\n",
      "Consonants = 2\n"
     ]
    }
   ],
   "source": [
    "# Vowel and Consonants counter\n",
    "\n",
    "char = input(\"Enter Text: \")\n",
    "con_char = char.upper()\n",
    "vowel = 0\n",
    "consonant = 0\n",
    "for x in con_char:\n",
    "    if x == \"A\" or x == \"E\" or x == \"I\" or x == \"O\" or x == \"U\":\n",
    "        vowel += 1\n",
    "    else:\n",
    "        consonant += 1\n",
    "print(\"Vowels =\",vowel)\n",
    "print(\"Consonants =\",consonant)"
   ]
  },
  {
   "cell_type": "code",
   "execution_count": null,
   "metadata": {},
   "outputs": [],
   "source": []
  }
 ],
 "metadata": {
  "kernelspec": {
   "display_name": "Python 3",
   "language": "python",
   "name": "python3"
  },
  "language_info": {
   "codemirror_mode": {
    "name": "ipython",
    "version": 3
   },
   "file_extension": ".py",
   "mimetype": "text/x-python",
   "name": "python",
   "nbconvert_exporter": "python",
   "pygments_lexer": "ipython3",
   "version": "3.7.3"
  }
 },
 "nbformat": 4,
 "nbformat_minor": 2
}

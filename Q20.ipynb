{
 "cells": [
  {
   "cell_type": "code",
   "execution_count": 11,
   "metadata": {},
   "outputs": [
    {
     "name": "stdout",
     "output_type": "stream",
     "text": [
      "Enter Text: sami -12\n",
      "Alphabets = 4\n",
      "Numbers = 2\n",
      "Special Characters = 1\n",
      "Space = 1\n"
     ]
    }
   ],
   "source": [
    "# Count Alphabets, Numbers and Special Characters\n",
    "\n",
    "st = input(\"Enter Text: \")\n",
    "alphabet = 0\n",
    "number = 0\n",
    "special_char = 0\n",
    "space = 0\n",
    "for x in st:\n",
    "    if int(ord(x)) >= 65 and int(ord(x)) <= 122:\n",
    "        alphabet += 1\n",
    "    elif int(ord(x)) >= 48 and int(ord(x)) <= 57:\n",
    "        number += 1\n",
    "    elif x == \" \":\n",
    "        space += 1\n",
    "    else:\n",
    "        special_char += 1\n",
    "        \n",
    "print(\"Alphabets =\",alphabet)\n",
    "print(\"Numbers =\",number)\n",
    "print(\"Special Characters =\",special_char)\n",
    "print(\"Space =\",space)"
   ]
  },
  {
   "cell_type": "code",
   "execution_count": null,
   "metadata": {},
   "outputs": [],
   "source": []
  }
 ],
 "metadata": {
  "kernelspec": {
   "display_name": "Python 3",
   "language": "python",
   "name": "python3"
  },
  "language_info": {
   "codemirror_mode": {
    "name": "ipython",
    "version": 3
   },
   "file_extension": ".py",
   "mimetype": "text/x-python",
   "name": "python",
   "nbconvert_exporter": "python",
   "pygments_lexer": "ipython3",
   "version": "3.7.3"
  }
 },
 "nbformat": 4,
 "nbformat_minor": 2
}

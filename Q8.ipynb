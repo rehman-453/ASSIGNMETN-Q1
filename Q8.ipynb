{
 "cells": [
  {
   "cell_type": "code",
   "execution_count": 19,
   "metadata": {},
   "outputs": [
    {
     "name": "stdout",
     "output_type": "stream",
     "text": [
      "Enter a character: e\n",
      "Letter e is Vowel\n"
     ]
    }
   ],
   "source": [
    "# Vowel Tester\n",
    "\n",
    "char = str(input(\"Enter a character: \"))\n",
    "con_char = char.upper()\n",
    "if con_char == 'A' or con_char == 'E' or con_char == 'I' or con_char == 'O' or con_char == 'U' :\n",
    "    print(\"Letter\", char, \"is Vowel\")\n",
    "else:\n",
    "     print(\"Letter\", char, \"is not Vowel\")"
   ]
  },
  {
   "cell_type": "code",
   "execution_count": null,
   "metadata": {},
   "outputs": [],
   "source": []
  }
 ],
 "metadata": {
  "kernelspec": {
   "display_name": "Python 3",
   "language": "python",
   "name": "python3"
  },
  "language_info": {
   "codemirror_mode": {
    "name": "ipython",
    "version": 3
   },
   "file_extension": ".py",
   "mimetype": "text/x-python",
   "name": "python",
   "nbconvert_exporter": "python",
   "pygments_lexer": "ipython3",
   "version": "3.7.3"
  }
 },
 "nbformat": 4,
 "nbformat_minor": 2
}

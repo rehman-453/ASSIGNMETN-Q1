{
 "cells": [
  {
   "cell_type": "code",
   "execution_count": 3,
   "metadata": {},
   "outputs": [
    {
     "name": "stdout",
     "output_type": "stream",
     "text": [
      "Enter Height in Feet = 5\n",
      "There are 152.4 cm in 5.0 feet\n"
     ]
    }
   ],
   "source": [
    "# Feet to Centimeter Converter\n",
    "\n",
    "feet = float(input(\"Enter Height in Feet = \"))\n",
    "cm = feet*30.48\n",
    "print(\"There are\",cm,\"cm in\",feet,\"feet\")"
   ]
  }
 ],
 "metadata": {
  "kernelspec": {
   "display_name": "Python 3",
   "language": "python",
   "name": "python3"
  },
  "language_info": {
   "codemirror_mode": {
    "name": "ipython",
    "version": 3
   },
   "file_extension": ".py",
   "mimetype": "text/x-python",
   "name": "python",
   "nbconvert_exporter": "python",
   "pygments_lexer": "ipython3",
   "version": "3.7.3"
  }
 },
 "nbformat": 4,
 "nbformat_minor": 2
}

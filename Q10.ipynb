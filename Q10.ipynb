{
 "cells": [
  {
   "cell_type": "code",
   "execution_count": 8,
   "metadata": {},
   "outputs": [
    {
     "name": "stdout",
     "output_type": "stream",
     "text": [
      "Please enter principal amount = 10000\n",
      "Please enter Rate of interest in % = 0.1\n",
      "Enter number of years for investment = 5\n",
      "After 5.0 years your principal amount 10000.0 over an interest rate of  0.1 % will be 16105.100000000006\n"
     ]
    }
   ],
   "source": [
    "# Calculate Interest\n",
    "\n",
    "principal_amount = float(input(\"Please enter principal amount = \"))\n",
    "rate = float(input(\"Please enter Rate of interest in % = \"))\n",
    "year = float(input(\"Enter number of years for investment = \"))\n",
    "interest = principal_amount * (1 + rate)**year\n",
    "print(\"After\", year,\"years your principal amount\",principal_amount,\"over an interest rate of \",rate,\"% will be\", interest)"
   ]
  },
  {
   "cell_type": "code",
   "execution_count": null,
   "metadata": {},
   "outputs": [],
   "source": []
  }
 ],
 "metadata": {
  "kernelspec": {
   "display_name": "Python 3",
   "language": "python",
   "name": "python3"
  },
  "language_info": {
   "codemirror_mode": {
    "name": "ipython",
    "version": 3
   },
   "file_extension": ".py",
   "mimetype": "text/x-python",
   "name": "python",
   "nbconvert_exporter": "python",
   "pygments_lexer": "ipython3",
   "version": "3.7.3"
  }
 },
 "nbformat": 4,
 "nbformat_minor": 2
}

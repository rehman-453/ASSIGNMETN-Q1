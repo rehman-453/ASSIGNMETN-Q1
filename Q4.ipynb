{
 "cells": [
  {
   "cell_type": "code",
   "execution_count": 6,
   "metadata": {},
   "outputs": [
    {
     "name": "stdout",
     "output_type": "stream",
     "text": [
      "Enter a date in (dd/mm/yy) Format: 12/02/2009\n",
      "Enter a date in (dd/mm/yy) Format: 12/03/2009\n",
      "There are 28 days in Between 12/02/2009 and 12/03/2009\n"
     ]
    }
   ],
   "source": [
    "# Days Calculator\n",
    "\n",
    "from datetime import datetime\n",
    "dte_frmt = \"%d/%m/%Y\"\n",
    "x = input(\"Enter a date in (dd/mm/yy) Format: \")\n",
    "y = input(\"Enter a date in (dd/mm/yy) Format: \")\n",
    "a = datetime.strptime( x , dte_frmt)\n",
    "b = datetime.strptime( y , dte_frmt)\n",
    "diff = b - a\n",
    "print (\"There are\", diff.days, \"days in Between\", x , \"and\" , y)"
   ]
  },
  {
   "cell_type": "code",
   "execution_count": null,
   "metadata": {},
   "outputs": [],
   "source": []
  }
 ],
 "metadata": {
  "kernelspec": {
   "display_name": "Python 3",
   "language": "python",
   "name": "python3"
  },
  "language_info": {
   "codemirror_mode": {
    "name": "ipython",
    "version": 3
   },
   "file_extension": ".py",
   "mimetype": "text/x-python",
   "name": "python",
   "nbconvert_exporter": "python",
   "pygments_lexer": "ipython3",
   "version": "3.7.3"
  }
 },
 "nbformat": 4,
 "nbformat_minor": 2
}

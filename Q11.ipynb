{
 "cells": [
  {
   "cell_type": "code",
   "execution_count": 5,
   "metadata": {},
   "outputs": [
    {
     "name": "stdout",
     "output_type": "stream",
     "text": [
      "Enter Co-ordinate for x1 = 2\n",
      "Enter Co-ordinate for x2 = 4\n",
      "Enter Co-ordinate for y1 = 4\n",
      "Enter Co-ordinate for y2 = 4\n",
      "Distance between points ( 2 , 4 ) and ( 4 , 4 ) is 2.0\n"
     ]
    }
   ],
   "source": [
    "# Euclidean distance\n",
    "\n",
    "x1 = int(input(\"Enter Co-ordinate for x1 = \"))\n",
    "x2 = int(input(\"Enter Co-ordinate for x2 = \"))\n",
    "y1 = int(input(\"Enter Co-ordinate for y1 = \"))\n",
    "y2 = int(input(\"Enter Co-ordinate for y2 = \"))\n",
    "ans = ((x2-x1)**2 + (y2-y1)**2)**(1/2)\n",
    "print(\"Distance between points (\", x1, \",\", y1, \") and (\", x2, \",\", y2, \") is\",ans)"
   ]
  }
 ],
 "metadata": {
  "kernelspec": {
   "display_name": "Python 3",
   "language": "python",
   "name": "python3"
  },
  "language_info": {
   "codemirror_mode": {
    "name": "ipython",
    "version": 3
   },
   "file_extension": ".py",
   "mimetype": "text/x-python",
   "name": "python",
   "nbconvert_exporter": "python",
   "pygments_lexer": "ipython3",
   "version": "3.7.3"
  }
 },
 "nbformat": 4,
 "nbformat_minor": 2
}

{
 "cells": [
  {
   "cell_type": "code",
   "execution_count": 1,
   "metadata": {},
   "outputs": [
    {
     "name": "stdout",
     "output_type": "stream",
     "text": [
      "Enter numinator = 4\n",
      "Enter Denominator = 2\n",
      "Number 4 is Completely divisible by 2\n"
     ]
    }
   ],
   "source": [
    "# Divisibility check of two numbers\n",
    "\n",
    "num = int(input(\"Enter numinator = \"))\n",
    "den = int(input(\"Enter Denominator = \"))\n",
    "ans = num % den\n",
    "if ans == 0 :\n",
    "    print(\"Number\", num, \"is Completely divisible by\", den)\n",
    "else :\n",
    "    print(\"Number\", num, \"is not Completely divisible by\", den)"
   ]
  },
  {
   "cell_type": "code",
   "execution_count": null,
   "metadata": {},
   "outputs": [],
   "source": []
  }
 ],
 "metadata": {
  "kernelspec": {
   "display_name": "Python 3",
   "language": "python",
   "name": "python3"
  },
  "language_info": {
   "codemirror_mode": {
    "name": "ipython",
    "version": 3
   },
   "file_extension": ".py",
   "mimetype": "text/x-python",
   "name": "python",
   "nbconvert_exporter": "python",
   "pygments_lexer": "ipython3",
   "version": "3.7.3"
  }
 },
 "nbformat": 4,
 "nbformat_minor": 2
}

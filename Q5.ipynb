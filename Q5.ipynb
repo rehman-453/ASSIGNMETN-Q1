{
 "cells": [
  {
   "cell_type": "code",
   "execution_count": 4,
   "metadata": {},
   "outputs": [
    {
     "name": "stdout",
     "output_type": "stream",
     "text": [
      "Radius = 1\n",
      "Volume of the sphere with radius  1.0  is  4.189333333333333\n"
     ]
    }
   ],
   "source": [
    "# Calculate Volume of a sphere\n",
    "\n",
    "pi = 3.142\n",
    "r = float(input(\"Radius = \"))\n",
    "Volume = (4 * pi * r * r * r)/3\n",
    "print(\"Volume of the sphere with radius \", r , \" is \", Volume)"
   ]
  },
  {
   "cell_type": "code",
   "execution_count": null,
   "metadata": {},
   "outputs": [],
   "source": []
  }
 ],
 "metadata": {
  "kernelspec": {
   "display_name": "Python 3",
   "language": "python",
   "name": "python3"
  },
  "language_info": {
   "codemirror_mode": {
    "name": "ipython",
    "version": 3
   },
   "file_extension": ".py",
   "mimetype": "text/x-python",
   "name": "python",
   "nbconvert_exporter": "python",
   "pygments_lexer": "ipython3",
   "version": "3.7.3"
  }
 },
 "nbformat": 4,
 "nbformat_minor": 2
}

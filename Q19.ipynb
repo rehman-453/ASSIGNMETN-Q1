{
 "cells": [
  {
   "cell_type": "code",
   "execution_count": 12,
   "metadata": {},
   "outputs": [
    {
     "name": "stdout",
     "output_type": "stream",
     "text": [
      "Enter Text: wow\n",
      "Text wow is Palindrome. \n"
     ]
    }
   ],
   "source": [
    "#Palindrome Tester\n",
    "\n",
    "word = input(\"Enter Text: \")\n",
    "if word == word[::-1]:\n",
    "    print(\"Text\",word,\"is Palindrome. \")\n",
    "else:\n",
    "    print(\"Text\",word,\"is Not Palindrome. \")"
   ]
  },
  {
   "cell_type": "code",
   "execution_count": null,
   "metadata": {},
   "outputs": [],
   "source": []
  }
 ],
 "metadata": {
  "kernelspec": {
   "display_name": "Python 3",
   "language": "python",
   "name": "python3"
  },
  "language_info": {
   "codemirror_mode": {
    "name": "ipython",
    "version": 3
   },
   "file_extension": ".py",
   "mimetype": "text/x-python",
   "name": "python",
   "nbconvert_exporter": "python",
   "pygments_lexer": "ipython3",
   "version": "3.7.3"
  }
 },
 "nbformat": 4,
 "nbformat_minor": 2
}

{
 "cells": [
  {
   "cell_type": "code",
   "execution_count": 2,
   "metadata": {},
   "outputs": [
    {
     "name": "stdout",
     "output_type": "stream",
     "text": [
      "Enter String: Hi \n",
      "How many copies of String you need = 5\n",
      "5 Copies of Hi  are Hi Hi Hi Hi \n"
     ]
    }
   ],
   "source": [
    "# Copy string n times\n",
    "\n",
    "st = str(input(\"Enter String: \"))\n",
    "n = int(input(\"How many copies of String you need = \"))\n",
    "print(n, \"Copies of\", st, \"are\", st*4)"
   ]
  },
  {
   "cell_type": "code",
   "execution_count": null,
   "metadata": {},
   "outputs": [],
   "source": []
  }
 ],
 "metadata": {
  "kernelspec": {
   "display_name": "Python 3",
   "language": "python",
   "name": "python3"
  },
  "language_info": {
   "codemirror_mode": {
    "name": "ipython",
    "version": 3
   },
   "file_extension": ".py",
   "mimetype": "text/x-python",
   "name": "python",
   "nbconvert_exporter": "python",
   "pygments_lexer": "ipython3",
   "version": "3.7.3"
  }
 },
 "nbformat": 4,
 "nbformat_minor": 2
}

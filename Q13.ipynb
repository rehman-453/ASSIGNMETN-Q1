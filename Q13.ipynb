{
 "cells": [
  {
   "cell_type": "code",
   "execution_count": 3,
   "metadata": {},
   "outputs": [
    {
     "name": "stdout",
     "output_type": "stream",
     "text": [
      "Enter height in cm = 176\n",
      "Enter weight in kg = 74\n",
      "Your BMI is 23.889462809917358\n"
     ]
    }
   ],
   "source": [
    "# BMI calculator\n",
    "\n",
    "height = int(input(\"Enter height in cm = \"))\n",
    "weight = int(input(\"Enter weight in kg = \"))\n",
    "BMI = (weight  / height  / height ) * 10000\n",
    "print(\"Your BMI is\",BMI)"
   ]
  }
 ],
 "metadata": {
  "kernelspec": {
   "display_name": "Python 3",
   "language": "python",
   "name": "python3"
  },
  "language_info": {
   "codemirror_mode": {
    "name": "ipython",
    "version": 3
   },
   "file_extension": ".py",
   "mimetype": "text/x-python",
   "name": "python",
   "nbconvert_exporter": "python",
   "pygments_lexer": "ipython3",
   "version": "3.7.3"
  }
 },
 "nbformat": 4,
 "nbformat_minor": 2
}
